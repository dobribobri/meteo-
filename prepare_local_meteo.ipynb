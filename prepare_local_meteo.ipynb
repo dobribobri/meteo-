{
 "cells": [
  {
   "cell_type": "code",
   "execution_count": 1,
   "id": "53627d71",
   "metadata": {},
   "outputs": [],
   "source": [
    "import os\n",
    "import csv"
   ]
  },
  {
   "cell_type": "code",
   "execution_count": 2,
   "id": "773a6e79",
   "metadata": {},
   "outputs": [
    {
     "name": "stdout",
     "output_type": "stream",
     "text": [
      "Processing.. meteo_1_2017-01-01_2017-12-31.csv\n",
      "Processing.. meteo_1_2018-01-01_2018-12-31.csv\n",
      "Processing.. meteo_1_2019-01-01_2019-12-31.csv\n",
      "Processing.. meteo_1_2020-01-01_2020-12-31.csv\n",
      "Processing.. meteo_1_2021-01-01_2021-12-31.csv\n",
      "Processing.. meteo_1_2022-01-01_2022-12-31.csv\n",
      "Processing.. meteo_1_2023-01-01_2023-12-31.csv\n",
      "Processing.. meteo_1_2024-01-01_2024-09-30.csv\n",
      "Processing.. meteo_2_2017-01-01_2017-12-31.csv\n",
      "Processing.. meteo_2_2018-01-01_2018-12-31.csv\n",
      "Processing.. meteo_2_2019-01-01_2019-12-31.csv\n",
      "Processing.. meteo_2_2020-01-01_2020-12-31.csv\n",
      "Processing.. meteo_2_2021-01-01_2021-12-31.csv\n",
      "Processing.. meteo_2_2022-01-01_2022-12-31.csv\n",
      "Processing.. meteo_2_2023-01-01_2023-12-31.csv\n",
      "Processing.. meteo_2_2024-01-01_2024-09-30.csv\n"
     ]
    }
   ],
   "source": [
    "for j, station_path in enumerate([os.path.join('meteostations', 'station1'), os.path.join('meteostations', 'station2')]):\n",
    "    rows = []\n",
    "    for i, csvpath in enumerate(os.listdir(station_path)):\n",
    "        print('Processing.. {}'.format(csvpath))\n",
    "        with open(os.path.join(station_path, csvpath), 'r') as csvfile:\n",
    "            for k, row in enumerate(csvfile):\n",
    "                if i != 0 and k == 0:\n",
    "                    continue\n",
    "                rows.append(row)\n",
    "    with open('meteo_{}.csv'.format(j+1), 'w') as csvfile:\n",
    "        for row in rows:\n",
    "            csvfile.write(row)"
   ]
  },
  {
   "cell_type": "code",
   "execution_count": null,
   "id": "fcec7225-5fb6-4f57-9d94-27804461f7de",
   "metadata": {},
   "outputs": [],
   "source": []
  }
 ],
 "metadata": {
  "kernelspec": {
   "display_name": "Python 3 (ipykernel)",
   "language": "python",
   "name": "python3"
  },
  "language_info": {
   "codemirror_mode": {
    "name": "ipython",
    "version": 3
   },
   "file_extension": ".py",
   "mimetype": "text/x-python",
   "name": "python",
   "nbconvert_exporter": "python",
   "pygments_lexer": "ipython3",
   "version": "3.10.12"
  }
 },
 "nbformat": 4,
 "nbformat_minor": 5
}
