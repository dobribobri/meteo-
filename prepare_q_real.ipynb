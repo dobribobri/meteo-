{
 "cells": [
  {
   "cell_type": "code",
   "execution_count": 1,
   "id": "49aaa10b",
   "metadata": {},
   "outputs": [],
   "source": [
    "import numpy as np\n",
    "import os\n",
    "\n",
    "TS = np.load(os.path.join('dump', 'ts.npy'))\n",
    "DT = np.load(os.path.join('dump', 'dt.npy'))\n",
    "BT = np.load(os.path.join('dump', 'bt.npy'))\n",
    "LM = np.load(os.path.join('dump', 'lm.npy'))\n",
    "MS = np.load(os.path.join('dump', 'ms.npy'))\n",
    "ID = np.load(os.path.join('dump', 'id.npy'))"
   ]
  },
  {
   "cell_type": "code",
   "execution_count": 2,
   "id": "6e37cd95",
   "metadata": {},
   "outputs": [
    {
     "name": "stdout",
     "output_type": "stream",
     "text": [
      "(11204787,) float64 \n",
      " (11204787, 7) int64 \n",
      " (11204787,) int64 \n",
      " (11204787, 47) float32 \n",
      " (11204787, 5) float32 \n",
      " (11204787, 4) int64 \n",
      "\n"
     ]
    }
   ],
   "source": [
    "print(\n",
    "    TS.shape, TS.dtype, '\\n',\n",
    "    DT.shape, DT.dtype, '\\n',\n",
    "    ID.shape, ID.dtype, '\\n',\n",
    "    BT.shape, BT.dtype, '\\n',\n",
    "    LM.shape, LM.dtype, '\\n',\n",
    "    MS.shape, MS.dtype, '\\n',\n",
    ")"
   ]
  },
  {
   "cell_type": "code",
   "execution_count": 3,
   "id": "281be838",
   "metadata": {},
   "outputs": [],
   "source": [
    "import dill\n",
    "with open('Dolgoprudnyj_gridded.dump', 'rb') as dump:\n",
    "    meteosonde_data = dill.load(dump)"
   ]
  },
  {
   "cell_type": "code",
   "execution_count": 4,
   "id": "f13a4079",
   "metadata": {},
   "outputs": [],
   "source": [
    "import sys\n",
    "sys.path.append('../atmrad')"
   ]
  },
  {
   "cell_type": "code",
   "execution_count": 5,
   "id": "417dee3c",
   "metadata": {},
   "outputs": [],
   "source": [
    "from cpu.atmosphere import Atmosphere, avg\n",
    "from cpu.weight_funcs import krho\n",
    "from cpu.core.static.weight_funcs import kw"
   ]
  },
  {
   "cell_type": "code",
   "execution_count": 6,
   "id": "6c6f63c4",
   "metadata": {},
   "outputs": [
    {
     "name": "stdout",
     "output_type": "stream",
     "text": [
      "100.00000%                                                                                                                                                                                                                                                                                                                                                                                                                                                                                                                                                                                                                                                                                                                                                                                                                                                                                                                                                                                                                                                                                                                                                                                                                                                                                                                                                                                                                                                                                                                                                                                                                                                                                                                                                                                                                                                                                                                                                                                                                                                                                                                                                                                                                                                                            \n",
      "\n"
     ]
    }
   ],
   "source": [
    "Q_real = {}\n",
    "keys = list(meteosonde_data.keys())\n",
    "for i, key in enumerate(keys):\n",
    "    T, P, rho_rel, alt = meteosonde_data[key]\n",
    "    Atm_real = Atmosphere(T, P, RelativeHumidity=rho_rel, altitudes=alt)\n",
    "    Q_real[key] = Atm_real.Q  # real TWV\n",
    "    print('\\r{:.5f}%'.format((i+1) / len(keys) * 100), end='      ', flush=True)\n",
    "print('\\n')"
   ]
  },
  {
   "cell_type": "code",
   "execution_count": 7,
   "id": "17983eed",
   "metadata": {},
   "outputs": [
    {
     "name": "stdout",
     "output_type": "stream",
     "text": [
      "99.95729%                                                                                                                                                                                                                                                                                                                                                                                                                                                                                                                                                           "
     ]
    },
    {
     "data": {
      "text/plain": [
       "array([0.6344607, 0.6344607, 0.6344607, ..., 1.1487725, 1.1487725,\n",
       "       1.1487725], dtype=float32)"
      ]
     },
     "execution_count": 7,
     "metadata": {},
     "output_type": "execute_result"
    }
   ],
   "source": [
    "QREAL = []\n",
    "for i, _ in enumerate(TS):\n",
    "    try:\n",
    "        QREAL.append(Q_real[tuple(MS[i])])\n",
    "    except KeyError:\n",
    "        QREAL.append(-1)\n",
    "    if not i % 10000:\n",
    "        print('\\r{:.5f}%'.format((i+1) / len(TS) * 100), end='      ', flush=True)\n",
    "QREAL = np.asarray(QREAL, dtype=np.float32)\n",
    "QREAL"
   ]
  },
  {
   "cell_type": "code",
   "execution_count": 8,
   "id": "f86742d2",
   "metadata": {},
   "outputs": [
    {
     "data": {
      "text/plain": [
       "(10739899,)"
      ]
     },
     "execution_count": 8,
     "metadata": {},
     "output_type": "execute_result"
    }
   ],
   "source": [
    "cond = QREAL > 0\n",
    "QREAL[cond].shape"
   ]
  },
  {
   "cell_type": "code",
   "execution_count": 9,
   "id": "90cfdfef",
   "metadata": {},
   "outputs": [],
   "source": [
    "TS, DT, ID, BT, LM, MS = TS[cond], DT[cond], ID[cond], BT[cond], LM[cond], MS[cond]"
   ]
  },
  {
   "cell_type": "code",
   "execution_count": 10,
   "id": "152700e3",
   "metadata": {},
   "outputs": [],
   "source": [
    "def dump(_obj, _name, _dump_options):\n",
    "    if not os.path.exists('dump'):\n",
    "        os.makedirs('dump')\n",
    "    print('{}...'.format(_name))\n",
    "    if 'numpy' in _dump_options:\n",
    "        np.save(os.path.join('dump', '{}.npy'.format(_name)), _obj)\n",
    "        print('...numpy')\n",
    "    if 'dill' in _dump_options:\n",
    "        with open(os.path.join('dump', '{}.dump'.format(_name)), 'wb') as _dump:\n",
    "            dill.dump(_obj, _dump, recurse=True)\n",
    "        print('...dill')"
   ]
  },
  {
   "cell_type": "code",
   "execution_count": 11,
   "id": "299fec72",
   "metadata": {},
   "outputs": [
    {
     "name": "stdout",
     "output_type": "stream",
     "text": [
      "ts...\n",
      "...numpy\n",
      "dt...\n",
      "...numpy\n",
      "bt...\n",
      "...numpy\n",
      "lm...\n",
      "...numpy\n",
      "ms...\n",
      "...numpy\n",
      "id...\n",
      "...numpy\n",
      "ts...\n",
      "...dill\n",
      "dt...\n",
      "...dill\n",
      "bt...\n",
      "...dill\n",
      "lm...\n",
      "...dill\n",
      "ms...\n",
      "...dill\n",
      "id...\n",
      "...dill\n"
     ]
    }
   ],
   "source": [
    "dump(_obj=np.asarray(TS), _name='ts', _dump_options=['numpy'])\n",
    "dump(_obj=np.asarray(DT, dtype=int), _name='dt', _dump_options=['numpy'])\n",
    "dump(_obj=np.asarray(BT, dtype=np.float32), _name='bt', _dump_options=['numpy'])\n",
    "dump(_obj=np.asarray(LM, dtype=np.float32), _name='lm', _dump_options=['numpy'])\n",
    "dump(_obj=np.asarray(MS, dtype=int), _name='ms', _dump_options=['numpy'])\n",
    "dump(_obj=np.asarray(ID, dtype=int), _name='id', _dump_options=['numpy'])\n",
    "\n",
    "dump(_obj=np.asarray(TS), _name='ts', _dump_options=['dill'])\n",
    "dump(_obj=np.asarray(DT, dtype=int), _name='dt', _dump_options=['dill'])\n",
    "dump(_obj=np.asarray(BT, dtype=np.float32), _name='bt', _dump_options=['dill'])\n",
    "dump(_obj=np.asarray(LM, dtype=np.float32), _name='lm', _dump_options=['dill'])\n",
    "dump(_obj=np.asarray(MS, dtype=int), _name='ms', _dump_options=['dill'])\n",
    "dump(_obj=np.asarray(ID, dtype=int), _name='id', _dump_options=['dill'])"
   ]
  },
  {
   "cell_type": "code",
   "execution_count": 12,
   "id": "9984a816",
   "metadata": {},
   "outputs": [],
   "source": [
    "QREAL = QREAL[cond]"
   ]
  },
  {
   "cell_type": "code",
   "execution_count": 13,
   "id": "76a20579",
   "metadata": {},
   "outputs": [
    {
     "name": "stdout",
     "output_type": "stream",
     "text": [
      "qreal...\n",
      "...numpy\n",
      "...dill\n"
     ]
    }
   ],
   "source": [
    "dump(_obj=np.asarray(QREAL), _name='qreal', _dump_options=['numpy', 'dill'])"
   ]
  },
  {
   "cell_type": "code",
   "execution_count": null,
   "id": "3238435c",
   "metadata": {},
   "outputs": [],
   "source": []
  }
 ],
 "metadata": {
  "kernelspec": {
   "display_name": "Python 3 (ipykernel)",
   "language": "python",
   "name": "python3"
  },
  "language_info": {
   "codemirror_mode": {
    "name": "ipython",
    "version": 3
   },
   "file_extension": ".py",
   "mimetype": "text/x-python",
   "name": "python",
   "nbconvert_exporter": "python",
   "pygments_lexer": "ipython3",
   "version": "3.10.12"
  }
 },
 "nbformat": 4,
 "nbformat_minor": 5
}
