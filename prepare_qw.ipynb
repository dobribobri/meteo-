{
 "cells": [
  {
   "cell_type": "code",
   "execution_count": 1,
   "id": "4dff88df",
   "metadata": {},
   "outputs": [],
   "source": [
    "import numpy as np\n",
    "import os\n",
    "\n",
    "timestamps = np.load(os.path.join('dump', 'timestamps.npy'))\n",
    "pydatetime = np.load(os.path.join('dump', 'pydatetime.npy'))\n",
    "radiometry = np.load(os.path.join('dump', 'radiometry.npy'))\n",
    "localmeteo = np.load(os.path.join('dump', 'localmeteo.npy'))\n",
    "meteosonde = np.load(os.path.join('dump', 'meteosonde.npy'))"
   ]
  },
  {
   "cell_type": "code",
   "execution_count": null,
   "id": "b04c07f0",
   "metadata": {},
   "outputs": [],
   "source": [
    "import dill\n",
    "import os\n",
    "\n",
    "with open(os.path.join('dump', 'timestamps.dump'), 'rb') as timestamps_dump:\n",
    "    timestamps = dill.load(timestamps_dump)\n",
    "with open(os.path.join('dump', 'pydatetime.dump'), 'rb') as pydatetime_dump:\n",
    "    pydatetime = dill.load(pydatetime_dump)\n",
    "with open(os.path.join('dump', 'radiometry.dump'), 'rb') as radiometry_dump:\n",
    "    radiometry = dill.load(radiometry_dump)\n",
    "with open(os.path.join('dump', 'localmeteo.dump'), 'rb') as localmeteo_dump:\n",
    "    localmeteo = dill.load(localmeteo_dump)\n",
    "with open(os.path.join('dump', 'meteosonde.dump'), 'rb') as meteosonde_dump:\n",
    "    meteosonde = dill.load(meteosonde_dump)"
   ]
  },
  {
   "cell_type": "code",
   "execution_count": 2,
   "id": "7fb51c82",
   "metadata": {},
   "outputs": [
    {
     "name": "stdout",
     "output_type": "stream",
     "text": [
      "(8547172,) float64 \n",
      " (8547172, 7) int64 \n",
      " (8547172, 47) float32 \n",
      " (8547172, 5) float32 \n",
      " (8547172, 4) int64 \n",
      "\n"
     ]
    }
   ],
   "source": [
    "print(\n",
    "    timestamps.shape, timestamps.dtype, '\\n',\n",
    "    pydatetime.shape, pydatetime.dtype, '\\n',\n",
    "    radiometry.shape, radiometry.dtype, '\\n',\n",
    "    localmeteo.shape, localmeteo.dtype, '\\n',\n",
    "    meteosonde.shape, meteosonde.dtype, '\\n',\n",
    ")"
   ]
  },
  {
   "cell_type": "code",
   "execution_count": 3,
   "id": "a2857bdb",
   "metadata": {},
   "outputs": [],
   "source": [
    "channels = {}\n",
    "for i, f in enumerate(np.linspace(18, 27.2, 47, endpoint=True)):\n",
    "    channels[np.round(f, decimals=1)] = i"
   ]
  },
  {
   "cell_type": "code",
   "execution_count": null,
   "id": "f820af03",
   "metadata": {},
   "outputs": [],
   "source": [
    "radiometry[0, :][channels[18.0]]"
   ]
  },
  {
   "cell_type": "code",
   "execution_count": 4,
   "id": "432083f3",
   "metadata": {},
   "outputs": [],
   "source": [
    "import dill\n",
    "with open('Dolgoprudnyj.dump', 'rb') as dump:\n",
    "    meteosonde_data = dill.load(dump)"
   ]
  },
  {
   "cell_type": "code",
   "execution_count": 5,
   "id": "0d8d5ffc",
   "metadata": {},
   "outputs": [],
   "source": [
    "import sys\n",
    "sys.path.append('../atmrad')"
   ]
  },
  {
   "cell_type": "code",
   "execution_count": 6,
   "id": "5c14fe64",
   "metadata": {},
   "outputs": [],
   "source": [
    "from cpu.atmosphere import Atmosphere, avg\n",
    "from cpu.weight_funcs import krho\n",
    "from cpu.core.static.weight_funcs import kw"
   ]
  },
  {
   "cell_type": "code",
   "execution_count": 20,
   "id": "4c875a93",
   "metadata": {},
   "outputs": [
    {
     "data": {
      "text/plain": [
       "(1011857, 5)"
      ]
     },
     "execution_count": 20,
     "metadata": {},
     "output_type": "execute_result"
    }
   ],
   "source": [
    "np.unique(localmeteo, axis=0).shape"
   ]
  },
  {
   "cell_type": "code",
   "execution_count": 15,
   "id": "a7d34e35",
   "metadata": {},
   "outputs": [
    {
     "name": "stdout",
     "output_type": "stream",
     "text": [
      "0.00647%      "
     ]
    },
    {
     "ename": "KeyboardInterrupt",
     "evalue": "",
     "output_type": "error",
     "traceback": [
      "\u001b[0;31m---------------------------------------------------------------------------\u001b[0m",
      "\u001b[0;31mKeyboardInterrupt\u001b[0m                         Traceback (most recent call last)",
      "\u001b[0;32m/tmp/ipykernel_60974/2057475807.py\u001b[0m in \u001b[0;36m<module>\u001b[0;34m\u001b[0m\n\u001b[1;32m     33\u001b[0m         \u001b[0mTb_measured\u001b[0m \u001b[0;34m=\u001b[0m \u001b[0mnp\u001b[0m\u001b[0;34m.\u001b[0m\u001b[0masarray\u001b[0m\u001b[0;34m(\u001b[0m\u001b[0;34m[\u001b[0m\u001b[0mBT_spectra\u001b[0m\u001b[0;34m[\u001b[0m\u001b[0mchannels\u001b[0m\u001b[0;34m[\u001b[0m\u001b[0mnu\u001b[0m\u001b[0;34m]\u001b[0m\u001b[0;34m]\u001b[0m \u001b[0;32mfor\u001b[0m \u001b[0mnu\u001b[0m \u001b[0;32min\u001b[0m \u001b[0mfreq_pair\u001b[0m\u001b[0;34m]\u001b[0m\u001b[0;34m)\u001b[0m  \u001b[0;31m# под углом\u001b[0m\u001b[0;34m\u001b[0m\u001b[0;34m\u001b[0m\u001b[0m\n\u001b[1;32m     34\u001b[0m \u001b[0;34m\u001b[0m\u001b[0m\n\u001b[0;32m---> 35\u001b[0;31m         Tavg_down_std = np.asarray([avg.downward.T(Atm_std, nu, radiometry_angle) \n\u001b[0m\u001b[1;32m     36\u001b[0m                                     for nu in freq_pair])  # под углом \n\u001b[1;32m     37\u001b[0m \u001b[0;34m\u001b[0m\u001b[0m\n",
      "\u001b[0;32m/tmp/ipykernel_60974/2057475807.py\u001b[0m in \u001b[0;36m<listcomp>\u001b[0;34m(.0)\u001b[0m\n\u001b[1;32m     33\u001b[0m         \u001b[0mTb_measured\u001b[0m \u001b[0;34m=\u001b[0m \u001b[0mnp\u001b[0m\u001b[0;34m.\u001b[0m\u001b[0masarray\u001b[0m\u001b[0;34m(\u001b[0m\u001b[0;34m[\u001b[0m\u001b[0mBT_spectra\u001b[0m\u001b[0;34m[\u001b[0m\u001b[0mchannels\u001b[0m\u001b[0;34m[\u001b[0m\u001b[0mnu\u001b[0m\u001b[0;34m]\u001b[0m\u001b[0;34m]\u001b[0m \u001b[0;32mfor\u001b[0m \u001b[0mnu\u001b[0m \u001b[0;32min\u001b[0m \u001b[0mfreq_pair\u001b[0m\u001b[0;34m]\u001b[0m\u001b[0;34m)\u001b[0m  \u001b[0;31m# под углом\u001b[0m\u001b[0;34m\u001b[0m\u001b[0;34m\u001b[0m\u001b[0m\n\u001b[1;32m     34\u001b[0m \u001b[0;34m\u001b[0m\u001b[0m\n\u001b[0;32m---> 35\u001b[0;31m         Tavg_down_std = np.asarray([avg.downward.T(Atm_std, nu, radiometry_angle) \n\u001b[0m\u001b[1;32m     36\u001b[0m                                     for nu in freq_pair])  # под углом \n\u001b[1;32m     37\u001b[0m \u001b[0;34m\u001b[0m\u001b[0m\n",
      "\u001b[0;32m~/meteo-/../atmrad/cpu/atmosphere.py\u001b[0m in \u001b[0;36mT\u001b[0;34m(sa, frequency, _downward__theta)\u001b[0m\n\u001b[1;32m    466\u001b[0m             \u001b[0;34m:\u001b[0m\u001b[0mparam\u001b[0m \u001b[0msa\u001b[0m\u001b[0;34m:\u001b[0m \u001b[0mстандартная\u001b[0m \u001b[0mатмосфера\u001b[0m \u001b[0;34m(\u001b[0m\u001b[0mобъект\u001b[0m \u001b[0mAtmosphere\u001b[0m\u001b[0;34m)\u001b[0m\u001b[0;34m\u001b[0m\u001b[0;34m\u001b[0m\u001b[0m\n\u001b[1;32m    467\u001b[0m             \"\"\"\n\u001b[0;32m--> 468\u001b[0;31m             \u001b[0mtb_down\u001b[0m \u001b[0;34m=\u001b[0m \u001b[0msa\u001b[0m\u001b[0;34m.\u001b[0m\u001b[0mdownward\u001b[0m\u001b[0;34m.\u001b[0m\u001b[0mbrightness_temperature\u001b[0m\u001b[0;34m(\u001b[0m\u001b[0mfrequency\u001b[0m\u001b[0;34m,\u001b[0m \u001b[0m__theta\u001b[0m\u001b[0;34m,\u001b[0m \u001b[0mbackground\u001b[0m\u001b[0;34m=\u001b[0m\u001b[0;32mFalse\u001b[0m\u001b[0;34m)\u001b[0m\u001b[0;34m\u001b[0m\u001b[0;34m\u001b[0m\u001b[0m\n\u001b[0m\u001b[1;32m    469\u001b[0m             \u001b[0mtau_exp\u001b[0m \u001b[0;34m=\u001b[0m \u001b[0mmath\u001b[0m\u001b[0;34m.\u001b[0m\u001b[0mexp\u001b[0m\u001b[0;34m(\u001b[0m\u001b[0;34m-\u001b[0m\u001b[0;36m1\u001b[0m \u001b[0;34m*\u001b[0m \u001b[0msa\u001b[0m\u001b[0;34m.\u001b[0m\u001b[0mopacity\u001b[0m\u001b[0;34m.\u001b[0m\u001b[0msummary\u001b[0m\u001b[0;34m(\u001b[0m\u001b[0mfrequency\u001b[0m\u001b[0;34m,\u001b[0m \u001b[0m__theta\u001b[0m\u001b[0;34m)\u001b[0m\u001b[0;34m)\u001b[0m\u001b[0;34m\u001b[0m\u001b[0;34m\u001b[0m\u001b[0m\n\u001b[1;32m    470\u001b[0m             \u001b[0;32mreturn\u001b[0m \u001b[0mtb_down\u001b[0m \u001b[0;34m/\u001b[0m \u001b[0;34m(\u001b[0m\u001b[0;36m1.\u001b[0m \u001b[0;34m-\u001b[0m \u001b[0mtau_exp\u001b[0m\u001b[0;34m)\u001b[0m\u001b[0;34m\u001b[0m\u001b[0;34m\u001b[0m\u001b[0m\n",
      "\u001b[0;32m~/meteo-/../atmrad/cpu/atmosphere.py\u001b[0m in \u001b[0;36mwrapper\u001b[0;34m(obj, *args, **kwargs)\u001b[0m\n\u001b[1;32m     18\u001b[0m         \u001b[0;32mif\u001b[0m \u001b[0mhasattr\u001b[0m\u001b[0;34m(\u001b[0m\u001b[0mobj\u001b[0m\u001b[0;34m,\u001b[0m \u001b[0;34m'outer'\u001b[0m\u001b[0;34m)\u001b[0m\u001b[0;34m:\u001b[0m\u001b[0;34m\u001b[0m\u001b[0;34m\u001b[0m\u001b[0m\n\u001b[1;32m     19\u001b[0m             \u001b[0mobj\u001b[0m \u001b[0;34m=\u001b[0m \u001b[0mobj\u001b[0m\u001b[0;34m.\u001b[0m\u001b[0mouter\u001b[0m\u001b[0;34m\u001b[0m\u001b[0;34m\u001b[0m\u001b[0m\n\u001b[0;32m---> 20\u001b[0;31m         \u001b[0;32mreturn\u001b[0m \u001b[0mmethod\u001b[0m\u001b[0;34m(\u001b[0m\u001b[0mobj\u001b[0m\u001b[0;34m,\u001b[0m \u001b[0;34m*\u001b[0m\u001b[0margs\u001b[0m\u001b[0;34m,\u001b[0m \u001b[0;34m**\u001b[0m\u001b[0mkwargs\u001b[0m\u001b[0;34m)\u001b[0m\u001b[0;34m\u001b[0m\u001b[0;34m\u001b[0m\u001b[0m\n\u001b[0m\u001b[1;32m     21\u001b[0m     \u001b[0;32mreturn\u001b[0m \u001b[0mwrapper\u001b[0m\u001b[0;34m\u001b[0m\u001b[0;34m\u001b[0m\u001b[0m\n\u001b[1;32m     22\u001b[0m \u001b[0;34m\u001b[0m\u001b[0m\n",
      "\u001b[0;32m~/meteo-/../atmrad/cpu/atmosphere.py\u001b[0m in \u001b[0;36mbrightness_temperature\u001b[0;34m(self, frequency, _downward__theta, background)\u001b[0m\n\u001b[1;32m    372\u001b[0m \u001b[0;34m\u001b[0m\u001b[0m\n\u001b[1;32m    373\u001b[0m             \u001b[0minf\u001b[0m \u001b[0;34m=\u001b[0m \u001b[0mmath\u001b[0m\u001b[0;34m.\u001b[0m\u001b[0mlen_\u001b[0m\u001b[0;34m(\u001b[0m\u001b[0mg\u001b[0m\u001b[0;34m)\u001b[0m \u001b[0;34m-\u001b[0m \u001b[0;36m1\u001b[0m\u001b[0;34m\u001b[0m\u001b[0;34m\u001b[0m\u001b[0m\n\u001b[0;32m--> 374\u001b[0;31m             brt, boundaries = integrate.callable_f(f, 0, inf, self._dh, self.integration_method,\n\u001b[0m\u001b[1;32m    375\u001b[0m                                                    boundaries=True)\n\u001b[1;32m    376\u001b[0m             \u001b[0madd\u001b[0m \u001b[0;34m=\u001b[0m \u001b[0;36m0.\u001b[0m\u001b[0;34m\u001b[0m\u001b[0;34m\u001b[0m\u001b[0m\n",
      "\u001b[0;32m~/meteo-/../atmrad/cpu/core/integrate.py\u001b[0m in \u001b[0;36mcallable_f\u001b[0;34m(f, lower, upper, dh, method, theta, px, incline, boundaries)\u001b[0m\n\u001b[1;32m    116\u001b[0m                boundaries: bool = False) -> Union[Number, Tensor2D, Tuple[Union[Number, Tensor2D],\n\u001b[1;32m    117\u001b[0m                                                                           Union[List[Tuple[int, int]], None]]]:\n\u001b[0;32m--> 118\u001b[0;31m     \u001b[0ma\u001b[0m \u001b[0;34m=\u001b[0m \u001b[0mmath\u001b[0m\u001b[0;34m.\u001b[0m\u001b[0mas_tensor\u001b[0m\u001b[0;34m(\u001b[0m\u001b[0;34m[\u001b[0m\u001b[0mf\u001b[0m\u001b[0;34m(\u001b[0m\u001b[0mi\u001b[0m\u001b[0;34m)\u001b[0m \u001b[0;32mfor\u001b[0m \u001b[0mi\u001b[0m \u001b[0;32min\u001b[0m \u001b[0mrange\u001b[0m\u001b[0;34m(\u001b[0m\u001b[0mlower\u001b[0m\u001b[0;34m,\u001b[0m \u001b[0mupper\u001b[0m \u001b[0;34m+\u001b[0m \u001b[0;36m1\u001b[0m\u001b[0;34m,\u001b[0m \u001b[0;36m1\u001b[0m\u001b[0;34m)\u001b[0m\u001b[0;34m]\u001b[0m\u001b[0;34m)\u001b[0m\u001b[0;34m\u001b[0m\u001b[0;34m\u001b[0m\u001b[0m\n\u001b[0m\u001b[1;32m    119\u001b[0m     \u001b[0;32mif\u001b[0m \u001b[0mmath\u001b[0m\u001b[0;34m.\u001b[0m\u001b[0mrank\u001b[0m\u001b[0;34m(\u001b[0m\u001b[0ma\u001b[0m\u001b[0;34m)\u001b[0m \u001b[0;34m==\u001b[0m \u001b[0;36m3\u001b[0m\u001b[0;34m:\u001b[0m\u001b[0;34m\u001b[0m\u001b[0;34m\u001b[0m\u001b[0m\n\u001b[1;32m    120\u001b[0m         \u001b[0ma\u001b[0m \u001b[0;34m=\u001b[0m \u001b[0mmath\u001b[0m\u001b[0;34m.\u001b[0m\u001b[0mtranspose\u001b[0m\u001b[0;34m(\u001b[0m\u001b[0ma\u001b[0m\u001b[0;34m,\u001b[0m \u001b[0maxes\u001b[0m\u001b[0;34m=\u001b[0m\u001b[0;34m[\u001b[0m\u001b[0;36m1\u001b[0m\u001b[0;34m,\u001b[0m \u001b[0;36m2\u001b[0m\u001b[0;34m,\u001b[0m \u001b[0;36m0\u001b[0m\u001b[0;34m]\u001b[0m\u001b[0;34m)\u001b[0m\u001b[0;34m\u001b[0m\u001b[0;34m\u001b[0m\u001b[0m\n",
      "\u001b[0;32m~/meteo-/../atmrad/cpu/core/integrate.py\u001b[0m in \u001b[0;36m<listcomp>\u001b[0;34m(.0)\u001b[0m\n\u001b[1;32m    116\u001b[0m                boundaries: bool = False) -> Union[Number, Tensor2D, Tuple[Union[Number, Tensor2D],\n\u001b[1;32m    117\u001b[0m                                                                           Union[List[Tuple[int, int]], None]]]:\n\u001b[0;32m--> 118\u001b[0;31m     \u001b[0ma\u001b[0m \u001b[0;34m=\u001b[0m \u001b[0mmath\u001b[0m\u001b[0;34m.\u001b[0m\u001b[0mas_tensor\u001b[0m\u001b[0;34m(\u001b[0m\u001b[0;34m[\u001b[0m\u001b[0mf\u001b[0m\u001b[0;34m(\u001b[0m\u001b[0mi\u001b[0m\u001b[0;34m)\u001b[0m \u001b[0;32mfor\u001b[0m \u001b[0mi\u001b[0m \u001b[0;32min\u001b[0m \u001b[0mrange\u001b[0m\u001b[0;34m(\u001b[0m\u001b[0mlower\u001b[0m\u001b[0;34m,\u001b[0m \u001b[0mupper\u001b[0m \u001b[0;34m+\u001b[0m \u001b[0;36m1\u001b[0m\u001b[0;34m,\u001b[0m \u001b[0;36m1\u001b[0m\u001b[0;34m)\u001b[0m\u001b[0;34m]\u001b[0m\u001b[0;34m)\u001b[0m\u001b[0;34m\u001b[0m\u001b[0;34m\u001b[0m\u001b[0m\n\u001b[0m\u001b[1;32m    119\u001b[0m     \u001b[0;32mif\u001b[0m \u001b[0mmath\u001b[0m\u001b[0;34m.\u001b[0m\u001b[0mrank\u001b[0m\u001b[0;34m(\u001b[0m\u001b[0ma\u001b[0m\u001b[0;34m)\u001b[0m \u001b[0;34m==\u001b[0m \u001b[0;36m3\u001b[0m\u001b[0;34m:\u001b[0m\u001b[0;34m\u001b[0m\u001b[0;34m\u001b[0m\u001b[0m\n\u001b[1;32m    120\u001b[0m         \u001b[0ma\u001b[0m \u001b[0;34m=\u001b[0m \u001b[0mmath\u001b[0m\u001b[0;34m.\u001b[0m\u001b[0mtranspose\u001b[0m\u001b[0;34m(\u001b[0m\u001b[0ma\u001b[0m\u001b[0;34m,\u001b[0m \u001b[0maxes\u001b[0m\u001b[0;34m=\u001b[0m\u001b[0;34m[\u001b[0m\u001b[0;36m1\u001b[0m\u001b[0;34m,\u001b[0m \u001b[0;36m2\u001b[0m\u001b[0;34m,\u001b[0m \u001b[0;36m0\u001b[0m\u001b[0;34m]\u001b[0m\u001b[0;34m)\u001b[0m\u001b[0;34m\u001b[0m\u001b[0;34m\u001b[0m\u001b[0m\n",
      "\u001b[0;32m~/meteo-/../atmrad/cpu/atmosphere.py\u001b[0m in \u001b[0;36mf\u001b[0;34m(h)\u001b[0m\n\u001b[1;32m    364\u001b[0m \u001b[0;34m\u001b[0m\u001b[0m\n\u001b[1;32m    365\u001b[0m             \u001b[0;32mdef\u001b[0m \u001b[0mf\u001b[0m\u001b[0;34m(\u001b[0m\u001b[0mh\u001b[0m\u001b[0;34m)\u001b[0m\u001b[0;34m:\u001b[0m\u001b[0;34m\u001b[0m\u001b[0;34m\u001b[0m\u001b[0m\n\u001b[0;32m--> 366\u001b[0;31m                 integral, b = integrate.limits(g, 0, h, self._dh, self.integration_method,\n\u001b[0m\u001b[1;32m    367\u001b[0m                                                \u001b[0m_theta\u001b[0m\u001b[0;34m,\u001b[0m \u001b[0mself\u001b[0m\u001b[0;34m.\u001b[0m\u001b[0m_PX\u001b[0m\u001b[0;34m,\u001b[0m \u001b[0mself\u001b[0m\u001b[0;34m.\u001b[0m\u001b[0mincline\u001b[0m\u001b[0;34m,\u001b[0m\u001b[0;34m\u001b[0m\u001b[0;34m\u001b[0m\u001b[0m\n\u001b[1;32m    368\u001b[0m                                                boundaries=True)\n",
      "\u001b[0;32m~/meteo-/../atmrad/cpu/core/integrate.py\u001b[0m in \u001b[0;36mlimits\u001b[0;34m(a, lower, upper, dh, method, theta, px, incline, boundaries)\u001b[0m\n\u001b[1;32m     43\u001b[0m     \u001b[0;32mif\u001b[0m \u001b[0mnp\u001b[0m\u001b[0;34m.\u001b[0m\u001b[0misclose\u001b[0m\u001b[0;34m(\u001b[0m\u001b[0mtheta\u001b[0m\u001b[0;34m,\u001b[0m \u001b[0;36m0.\u001b[0m\u001b[0;34m)\u001b[0m\u001b[0;34m:\u001b[0m\u001b[0;34m\u001b[0m\u001b[0;34m\u001b[0m\u001b[0m\n\u001b[1;32m     44\u001b[0m         \u001b[0;32mif\u001b[0m \u001b[0mmethod\u001b[0m\u001b[0;34m.\u001b[0m\u001b[0mlower\u001b[0m\u001b[0;34m(\u001b[0m\u001b[0;34m)\u001b[0m \u001b[0;34m==\u001b[0m \u001b[0;34m'trapz'\u001b[0m\u001b[0;34m:\u001b[0m\u001b[0;34m\u001b[0m\u001b[0;34m\u001b[0m\u001b[0m\n\u001b[0;32m---> 45\u001b[0;31m             \u001b[0ma\u001b[0m \u001b[0;34m=\u001b[0m \u001b[0mtrapz\u001b[0m\u001b[0;34m(\u001b[0m\u001b[0ma\u001b[0m\u001b[0;34m,\u001b[0m \u001b[0mlower\u001b[0m\u001b[0;34m,\u001b[0m \u001b[0mupper\u001b[0m\u001b[0;34m,\u001b[0m \u001b[0mdh\u001b[0m\u001b[0;34m)\u001b[0m\u001b[0;34m\u001b[0m\u001b[0;34m\u001b[0m\u001b[0m\n\u001b[0m\u001b[1;32m     46\u001b[0m         \u001b[0;32melif\u001b[0m \u001b[0mmethod\u001b[0m\u001b[0;34m.\u001b[0m\u001b[0mlower\u001b[0m\u001b[0;34m(\u001b[0m\u001b[0;34m)\u001b[0m \u001b[0;34m==\u001b[0m \u001b[0;34m'simpson'\u001b[0m\u001b[0;34m:\u001b[0m\u001b[0;34m\u001b[0m\u001b[0;34m\u001b[0m\u001b[0m\n\u001b[1;32m     47\u001b[0m             \u001b[0ma\u001b[0m \u001b[0;34m=\u001b[0m \u001b[0msimpson\u001b[0m\u001b[0;34m(\u001b[0m\u001b[0ma\u001b[0m\u001b[0;34m,\u001b[0m \u001b[0mlower\u001b[0m\u001b[0;34m,\u001b[0m \u001b[0mupper\u001b[0m\u001b[0;34m,\u001b[0m \u001b[0mdh\u001b[0m\u001b[0;34m)\u001b[0m\u001b[0;34m\u001b[0m\u001b[0;34m\u001b[0m\u001b[0m\n",
      "\u001b[0;32m~/meteo-/../atmrad/cpu/core/integrate.py\u001b[0m in \u001b[0;36mtrapz\u001b[0;34m(a, lower, upper, dh)\u001b[0m\n\u001b[1;32m      9\u001b[0m def trapz(a: Tensor1D_or_3D, lower: int, upper: int,\n\u001b[1;32m     10\u001b[0m           dh: Union[float, Tensor1D]) -> Union[Number, Tensor2D]:\n\u001b[0;32m---> 11\u001b[0;31m     \u001b[0;32mreturn\u001b[0m \u001b[0mmath\u001b[0m\u001b[0;34m.\u001b[0m\u001b[0msum_\u001b[0m\u001b[0;34m(\u001b[0m\u001b[0mdiap\u001b[0m\u001b[0;34m(\u001b[0m\u001b[0ma\u001b[0m\u001b[0;34m,\u001b[0m \u001b[0mlower\u001b[0m \u001b[0;34m+\u001b[0m \u001b[0;36m1\u001b[0m\u001b[0;34m,\u001b[0m \u001b[0mupper\u001b[0m\u001b[0;34m)\u001b[0m \u001b[0;34m*\u001b[0m \u001b[0mdiap\u001b[0m\u001b[0;34m(\u001b[0m\u001b[0mdh\u001b[0m\u001b[0;34m,\u001b[0m \u001b[0mlower\u001b[0m \u001b[0;34m+\u001b[0m \u001b[0;36m1\u001b[0m\u001b[0;34m,\u001b[0m \u001b[0mupper\u001b[0m\u001b[0;34m)\u001b[0m\u001b[0;34m,\u001b[0m \u001b[0maxis\u001b[0m\u001b[0;34m=\u001b[0m\u001b[0;34m-\u001b[0m\u001b[0;36m1\u001b[0m\u001b[0;34m)\u001b[0m \u001b[0;34m+\u001b[0m\u001b[0;31m \u001b[0m\u001b[0;31m\\\u001b[0m\u001b[0;34m\u001b[0m\u001b[0;34m\u001b[0m\u001b[0m\n\u001b[0m\u001b[1;32m     12\u001b[0m            (at(a, lower) * at(dh, lower) +\n\u001b[1;32m     13\u001b[0m             at(a, upper) * at(dh, upper)) / 2.\n",
      "\u001b[0;32m~/meteo-/../atmrad/cpu/core/common.py\u001b[0m in \u001b[0;36mdiap\u001b[0;34m(a, start, stop, step)\u001b[0m\n\u001b[1;32m      7\u001b[0m def diap(a: Union[Number, Tensor1D_or_3D], start: int, stop: int,\n\u001b[1;32m      8\u001b[0m          step: int = 1) -> Union[Number, TensorLike]:\n\u001b[0;32m----> 9\u001b[0;31m     \u001b[0mrank\u001b[0m \u001b[0;34m=\u001b[0m \u001b[0mmath\u001b[0m\u001b[0;34m.\u001b[0m\u001b[0mrank\u001b[0m\u001b[0;34m(\u001b[0m\u001b[0ma\u001b[0m\u001b[0;34m)\u001b[0m\u001b[0;34m\u001b[0m\u001b[0;34m\u001b[0m\u001b[0m\n\u001b[0m\u001b[1;32m     10\u001b[0m     \u001b[0;32mif\u001b[0m \u001b[0mrank\u001b[0m \u001b[0;34m==\u001b[0m \u001b[0;36m0\u001b[0m\u001b[0;34m:\u001b[0m\u001b[0;34m\u001b[0m\u001b[0;34m\u001b[0m\u001b[0m\n\u001b[1;32m     11\u001b[0m         \u001b[0;32mreturn\u001b[0m \u001b[0ma\u001b[0m\u001b[0;34m\u001b[0m\u001b[0;34m\u001b[0m\u001b[0m\n",
      "\u001b[0;32m~/meteo-/../atmrad/cpu/core/math.py\u001b[0m in \u001b[0;36mrank\u001b[0;34m(a)\u001b[0m\n\u001b[1;32m      6\u001b[0m \u001b[0;34m\u001b[0m\u001b[0m\n\u001b[1;32m      7\u001b[0m \u001b[0;32mdef\u001b[0m \u001b[0mrank\u001b[0m\u001b[0;34m(\u001b[0m\u001b[0ma\u001b[0m\u001b[0;34m:\u001b[0m \u001b[0mUnion\u001b[0m\u001b[0;34m[\u001b[0m\u001b[0mNumber\u001b[0m\u001b[0;34m,\u001b[0m \u001b[0mTensorLike\u001b[0m\u001b[0;34m]\u001b[0m\u001b[0;34m)\u001b[0m \u001b[0;34m->\u001b[0m \u001b[0mint\u001b[0m\u001b[0;34m:\u001b[0m\u001b[0;34m\u001b[0m\u001b[0;34m\u001b[0m\u001b[0m\n\u001b[0;32m----> 8\u001b[0;31m     \u001b[0;32mreturn\u001b[0m \u001b[0mnp\u001b[0m\u001b[0;34m.\u001b[0m\u001b[0mndim\u001b[0m\u001b[0;34m(\u001b[0m\u001b[0ma\u001b[0m\u001b[0;34m)\u001b[0m\u001b[0;34m\u001b[0m\u001b[0;34m\u001b[0m\u001b[0m\n\u001b[0m\u001b[1;32m      9\u001b[0m \u001b[0;34m\u001b[0m\u001b[0m\n\u001b[1;32m     10\u001b[0m \u001b[0;34m\u001b[0m\u001b[0m\n",
      "\u001b[0;32m~/.local/lib/python3.10/site-packages/numpy/core/overrides.py\u001b[0m in \u001b[0;36mndim\u001b[0;34m(*args, **kwargs)\u001b[0m\n",
      "\u001b[0;31mKeyboardInterrupt\u001b[0m: "
     ]
    }
   ],
   "source": [
    "T_cosmic = 2.72548\n",
    "\n",
    "# radiometry_angle = 51.*np.pi/180\n",
    "radiometry_angle = 0.\n",
    "\n",
    "resonance_channel = 22.2\n",
    "second_channel = [18, 27.2]\n",
    "frequency_pairs = [(resonance_channel, sc) for sc in second_channel]\n",
    "\n",
    "_Q_real_, _Q_std_ = [], []\n",
    "_Q_retr_, _W_retr_ = [], []\n",
    "\n",
    "k_w_std = [np.asarray([kw(nu, t=0.) for nu in freq_pair]) for freq_pair in frequency_pairs]\n",
    "\n",
    "for i in range(len(meteosonde)):\n",
    "    \n",
    "    BT_spectra = radiometry[i, :]\n",
    "    \n",
    "    T, P, rho_rel, alt = meteosonde_data[tuple(meteosonde[i])]\n",
    "    Atm_real = Atmosphere(T, P, RelativeHumidity=rho_rel, altitudes=alt)\n",
    "    T0, P0, rho0, *_ = localmeteo[i]\n",
    "    Atm_std = Atmosphere.Standard(T0=T0, P0=P0, rho0=rho0)\n",
    "    \n",
    "    Q_real = Atm_real.Q  # real TWV\n",
    "    Q_std = Atm_std.Q  # TWV of standard atmosphere\n",
    "    \n",
    "    _Q_real_.append(Q_real)\n",
    "    _Q_std_.append(Q_std)\n",
    "    \n",
    "    Q_retr_, W_retr_ = [], []\n",
    "    for j, freq_pair in enumerate(frequency_pairs):\n",
    "        \n",
    "        Tb_measured = np.asarray([BT_spectra[channels[nu]] for nu in freq_pair])  # под углом\n",
    "\n",
    "        Tavg_down_std = np.asarray([avg.downward.T(Atm_std, nu, radiometry_angle) \n",
    "                                    for nu in freq_pair])  # под углом \n",
    "        \n",
    "        \n",
    "        k_rho_std = np.asarray([krho(Atm_std, nu) for nu in freq_pair])  # в зените\n",
    "        \n",
    "        M = np.transpose([k_rho_std, k_w_std[j]])\n",
    "        \n",
    "        \n",
    "        tau_o_std = np.asarray([Atm_std.opacity.oxygen(nu) for nu in freq_pair])  # в зените\n",
    "        \n",
    "        \n",
    "        tau_e = np.log((Tavg_down_std - T_cosmic) / (Tavg_down_std - Tb_measured)) * np.cos(radiometry_angle)  # в зените\n",
    "        \n",
    "        Q_retr, W_retr = np.linalg.solve(M, tau_e - tau_o_std)\n",
    "        \n",
    "        Q_retr_.append(Q_retr)\n",
    "        W_retr_.append(W_retr)\n",
    "    \n",
    "    _Q_retr_.append(Q_retr_)\n",
    "    _W_retr_.append(W_retr_)\n",
    "     \n",
    "#     if i % 10000 == 0:\n",
    "    print('\\r{:.5f}%'.format((i+1) / len(localmeteo) * 100), end='      ', flush=True)\n",
    "        \n",
    "_Q_real_, _Q_std_ = np.asarray(_Q_real_, dtype=np.float32), np.asarray(_Q_std_, dtype=np.float32)\n",
    "_Q_retr_, _W_retr_ = np.asarray(_Q_retr_, dtype=np.float32), np.asarray(_W_retr_, dtype=np.float32)\n"
   ]
  },
  {
   "cell_type": "code",
   "execution_count": null,
   "id": "4a36a85e",
   "metadata": {},
   "outputs": [],
   "source": []
  }
 ],
 "metadata": {
  "kernelspec": {
   "display_name": "Python 3 (ipykernel)",
   "language": "python",
   "name": "python3"
  },
  "language_info": {
   "codemirror_mode": {
    "name": "ipython",
    "version": 3
   },
   "file_extension": ".py",
   "mimetype": "text/x-python",
   "name": "python",
   "nbconvert_exporter": "python",
   "pygments_lexer": "ipython3",
   "version": "3.10.6"
  }
 },
 "nbformat": 4,
 "nbformat_minor": 5
}
