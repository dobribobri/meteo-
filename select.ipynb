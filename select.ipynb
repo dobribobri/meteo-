{
 "cells": [
  {
   "cell_type": "code",
   "execution_count": 1,
   "id": "4b72e882",
   "metadata": {},
   "outputs": [],
   "source": [
    "import numpy as np\n",
    "import os\n",
    "\n",
    "TS = np.load(os.path.join('dump', 'ts.npy'))\n",
    "DT = np.load(os.path.join('dump', 'dt.npy'))\n",
    "BT = np.load(os.path.join('dump', 'bt.npy'))\n",
    "LM = np.load(os.path.join('dump', 'lm.npy'))\n",
    "MS = np.load(os.path.join('dump', 'ms.npy'))\n",
    "ID = np.load(os.path.join('dump', 'id.npy'))\n",
    "QREAL = np.load(os.path.join('dump', 'qreal.npy'))"
   ]
  },
  {
   "cell_type": "code",
   "execution_count": 2,
   "id": "5d0f6f3f",
   "metadata": {},
   "outputs": [
    {
     "name": "stdout",
     "output_type": "stream",
     "text": [
      "(10281921,) float64 \n",
      " (10281921, 7) int64 \n",
      " (10281921,) int64 \n",
      " (10281921, 47) float32 \n",
      " (10281921, 5) float32 \n",
      " (10281921, 4) int64 \n",
      " (10281921,) float32 \n",
      "\n"
     ]
    }
   ],
   "source": [
    "print(\n",
    "    TS.shape, TS.dtype, '\\n',\n",
    "    DT.shape, DT.dtype, '\\n',\n",
    "    ID.shape, ID.dtype, '\\n',\n",
    "    BT.shape, BT.dtype, '\\n',\n",
    "    LM.shape, LM.dtype, '\\n',\n",
    "    MS.shape, MS.dtype, '\\n',\n",
    "    QREAL.shape, QREAL.dtype, '\\n',\n",
    ")"
   ]
  },
  {
   "cell_type": "markdown",
   "id": "2a4d899d",
   "metadata": {},
   "source": [
    "### SUMMER 2019"
   ]
  },
  {
   "cell_type": "code",
   "execution_count": null,
   "id": "b380ec88",
   "metadata": {},
   "outputs": [],
   "source": [
    "summer = (DT[:, 1] >= 6) & (DT[:, 1] <= 8) & (DT[:, 0] == 2019)"
   ]
  },
  {
   "cell_type": "code",
   "execution_count": null,
   "id": "221b3cbf",
   "metadata": {},
   "outputs": [],
   "source": [
    "TS, DT, ID, BT, LM, MS = \\\n",
    "        TS[summer], DT[summer], ID[summer], BT[summer], LM[summer], MS[summer]"
   ]
  },
  {
   "cell_type": "code",
   "execution_count": null,
   "id": "74542ba0",
   "metadata": {},
   "outputs": [],
   "source": [
    "print(\n",
    "        TS.shape, TS.dtype, '\\n',\n",
    "    )"
   ]
  },
  {
   "cell_type": "code",
   "execution_count": null,
   "id": "917e9224",
   "metadata": {},
   "outputs": [],
   "source": [
    "path_to_dump_dir = os.path.join('dump', 'summer', '2019')\n",
    "\n",
    "if not os.path.exists(path_to_dump_dir):\n",
    "    os.makedirs(path_to_dump_dir)\n",
    "\n",
    "np.save(os.path.join(path_to_dump_dir, 'ts.npy'), TS)\n",
    "np.save(os.path.join(path_to_dump_dir, 'dt.npy'), DT)\n",
    "np.save(os.path.join(path_to_dump_dir, 'id.npy'), ID)\n",
    "np.save(os.path.join(path_to_dump_dir, 'bt.npy'), BT)\n",
    "np.save(os.path.join(path_to_dump_dir, 'lm.npy'), LM)\n",
    "np.save(os.path.join(path_to_dump_dir, 'ms.npy'), MS)"
   ]
  },
  {
   "cell_type": "markdown",
   "id": "9485d6a8",
   "metadata": {},
   "source": [
    "## SEASONS"
   ]
  },
  {
   "cell_type": "markdown",
   "id": "d0809054",
   "metadata": {},
   "source": [
    "### SUMMER"
   ]
  },
  {
   "cell_type": "code",
   "execution_count": null,
   "id": "2dd8a3e8",
   "metadata": {},
   "outputs": [],
   "source": [
    "cond = (DT[:, 1] >= 6) & (DT[:, 1] <= 8)"
   ]
  },
  {
   "cell_type": "code",
   "execution_count": null,
   "id": "e742c20c",
   "metadata": {},
   "outputs": [],
   "source": [
    "ts, dt, id_, bt, lm, ms, qreal = \\\n",
    "    TS[cond], DT[cond], ID[cond], BT[cond], LM[cond], MS[cond], QREAL[cond]"
   ]
  },
  {
   "cell_type": "code",
   "execution_count": null,
   "id": "4e284614",
   "metadata": {},
   "outputs": [],
   "source": [
    "print(ts.shape, ts.dtype, '\\n',)"
   ]
  },
  {
   "cell_type": "code",
   "execution_count": null,
   "id": "8de99a96",
   "metadata": {},
   "outputs": [],
   "source": [
    "path_to_dump_dir = os.path.join('dump', 'summer')\n",
    "\n",
    "if not os.path.exists(path_to_dump_dir):\n",
    "    os.makedirs(path_to_dump_dir)\n",
    "\n",
    "np.save(os.path.join(path_to_dump_dir, 'ts.npy'), ts)\n",
    "np.save(os.path.join(path_to_dump_dir, 'dt.npy'), dt)\n",
    "np.save(os.path.join(path_to_dump_dir, 'id.npy'), id_)\n",
    "np.save(os.path.join(path_to_dump_dir, 'bt.npy'), bt)\n",
    "np.save(os.path.join(path_to_dump_dir, 'lm.npy'), lm)\n",
    "np.save(os.path.join(path_to_dump_dir, 'ms.npy'), ms)\n",
    "np.save(os.path.join(path_to_dump_dir, 'qreal.npy'), qreal)"
   ]
  },
  {
   "cell_type": "markdown",
   "id": "c740e58d",
   "metadata": {},
   "source": [
    "### AUTUMN"
   ]
  },
  {
   "cell_type": "code",
   "execution_count": null,
   "id": "bfdf70d6",
   "metadata": {},
   "outputs": [],
   "source": [
    "cond = (DT[:, 1] >= 9) & (DT[:, 1] <= 11)"
   ]
  },
  {
   "cell_type": "code",
   "execution_count": null,
   "id": "d77e7b6c",
   "metadata": {},
   "outputs": [],
   "source": [
    "ts, dt, id_, bt, lm, ms, qreal = \\\n",
    "    TS[cond], DT[cond], ID[cond], BT[cond], LM[cond], MS[cond], QREAL[cond]"
   ]
  },
  {
   "cell_type": "code",
   "execution_count": null,
   "id": "e2db8d67",
   "metadata": {},
   "outputs": [],
   "source": [
    "print(ts.shape, ts.dtype, '\\n',)"
   ]
  },
  {
   "cell_type": "code",
   "execution_count": null,
   "id": "a6bb9d70",
   "metadata": {},
   "outputs": [],
   "source": [
    "path_to_dump_dir = os.path.join('dump', 'autumn')\n",
    "\n",
    "if not os.path.exists(path_to_dump_dir):\n",
    "    os.makedirs(path_to_dump_dir)\n",
    "\n",
    "np.save(os.path.join(path_to_dump_dir, 'ts.npy'), ts)\n",
    "np.save(os.path.join(path_to_dump_dir, 'dt.npy'), dt)\n",
    "np.save(os.path.join(path_to_dump_dir, 'id.npy'), id_)\n",
    "np.save(os.path.join(path_to_dump_dir, 'bt.npy'), bt)\n",
    "np.save(os.path.join(path_to_dump_dir, 'lm.npy'), lm)\n",
    "np.save(os.path.join(path_to_dump_dir, 'ms.npy'), ms)\n",
    "np.save(os.path.join(path_to_dump_dir, 'qreal.npy'), ms)"
   ]
  },
  {
   "cell_type": "markdown",
   "id": "24cb6a3a",
   "metadata": {},
   "source": [
    "### WINTER"
   ]
  },
  {
   "cell_type": "code",
   "execution_count": null,
   "id": "6b93f681",
   "metadata": {},
   "outputs": [],
   "source": [
    "cond = (DT[:, 1] >= 12) | (DT[:, 1] <= 2)"
   ]
  },
  {
   "cell_type": "code",
   "execution_count": null,
   "id": "dde8b6b9",
   "metadata": {},
   "outputs": [],
   "source": [
    "ts, dt, id_, bt, lm, ms, qreal = \\\n",
    "    TS[cond], DT[cond], ID[cond], BT[cond], LM[cond], MS[cond], QREAL[cond]"
   ]
  },
  {
   "cell_type": "code",
   "execution_count": null,
   "id": "b7df72c0",
   "metadata": {},
   "outputs": [],
   "source": [
    "print(ts.shape, ts.dtype, '\\n',)"
   ]
  },
  {
   "cell_type": "code",
   "execution_count": null,
   "id": "2ed5258c",
   "metadata": {},
   "outputs": [],
   "source": [
    "path_to_dump_dir = os.path.join('dump', 'winter')\n",
    "\n",
    "if not os.path.exists(path_to_dump_dir):\n",
    "    os.makedirs(path_to_dump_dir)\n",
    "\n",
    "np.save(os.path.join(path_to_dump_dir, 'ts.npy'), ts)\n",
    "np.save(os.path.join(path_to_dump_dir, 'dt.npy'), dt)\n",
    "np.save(os.path.join(path_to_dump_dir, 'id.npy'), id_)\n",
    "np.save(os.path.join(path_to_dump_dir, 'bt.npy'), bt)\n",
    "np.save(os.path.join(path_to_dump_dir, 'lm.npy'), lm)\n",
    "np.save(os.path.join(path_to_dump_dir, 'ms.npy'), ms)\n",
    "np.save(os.path.join(path_to_dump_dir, 'qreal.npy'), ms)"
   ]
  },
  {
   "cell_type": "markdown",
   "id": "a21d281d",
   "metadata": {},
   "source": [
    "### SPRING"
   ]
  },
  {
   "cell_type": "code",
   "execution_count": null,
   "id": "7bc79efb",
   "metadata": {},
   "outputs": [],
   "source": [
    "cond = (DT[:, 1] >= 3) & (DT[:, 1] <= 5)"
   ]
  },
  {
   "cell_type": "code",
   "execution_count": null,
   "id": "f2712cfe",
   "metadata": {},
   "outputs": [],
   "source": [
    "ts, dt, id_, bt, lm, ms, qreal = \\\n",
    "    TS[cond], DT[cond], ID[cond], BT[cond], LM[cond], MS[cond], QREAL[cond]"
   ]
  },
  {
   "cell_type": "code",
   "execution_count": null,
   "id": "9abbe583",
   "metadata": {},
   "outputs": [],
   "source": [
    "print(ts.shape, ts.dtype, '\\n',)"
   ]
  },
  {
   "cell_type": "code",
   "execution_count": null,
   "id": "476cce67",
   "metadata": {},
   "outputs": [],
   "source": [
    "path_to_dump_dir = os.path.join('dump', 'spring')\n",
    "\n",
    "if not os.path.exists(path_to_dump_dir):\n",
    "    os.makedirs(path_to_dump_dir)\n",
    "\n",
    "np.save(os.path.join(path_to_dump_dir, 'ts.npy'), ts)\n",
    "np.save(os.path.join(path_to_dump_dir, 'dt.npy'), dt)\n",
    "np.save(os.path.join(path_to_dump_dir, 'id.npy'), id_)\n",
    "np.save(os.path.join(path_to_dump_dir, 'bt.npy'), bt)\n",
    "np.save(os.path.join(path_to_dump_dir, 'lm.npy'), lm)\n",
    "np.save(os.path.join(path_to_dump_dir, 'ms.npy'), ms)\n",
    "np.save(os.path.join(path_to_dump_dir, 'qreal.npy'), ms)"
   ]
  },
  {
   "cell_type": "markdown",
   "id": "60e36f02-01f8-400f-aedc-ee31ddb4bd38",
   "metadata": {},
   "source": [
    "## prepare 00pm UTC = 15:00 UTC+3"
   ]
  },
  {
   "cell_type": "code",
   "execution_count": 3,
   "id": "697b3f04-869d-497d-82a9-a648e60cf4f4",
   "metadata": {},
   "outputs": [],
   "source": [
    "cond = ((DT[:, 3] == 14) & (DT[:, 4] > 59)) | ((DT[:, 3] == 15) & (DT[:, 4] < 1))"
   ]
  },
  {
   "cell_type": "code",
   "execution_count": 4,
   "id": "0ba739ae-8fef-4f0c-8075-71011fb19d73",
   "metadata": {},
   "outputs": [
    {
     "data": {
      "text/plain": [
       "(7027,)"
      ]
     },
     "execution_count": 4,
     "metadata": {},
     "output_type": "execute_result"
    }
   ],
   "source": [
    "ts, dt, id_, bt, lm, ms, qreal = \\\n",
    "    TS[cond], DT[cond], ID[cond], BT[cond], LM[cond], MS[cond], QREAL[cond]\n",
    "ts.shape"
   ]
  },
  {
   "cell_type": "code",
   "execution_count": 5,
   "id": "0abc3d6d-881d-4525-91ed-8aa0b86d3e74",
   "metadata": {},
   "outputs": [],
   "source": [
    "path_to_dump_dir = os.path.join('dump', '00pm')\n",
    "if not os.path.exists(path_to_dump_dir):\n",
    "    os.makedirs(path_to_dump_dir)\n",
    "\n",
    "np.save(os.path.join(path_to_dump_dir, 'ts.npy'), ts)\n",
    "np.save(os.path.join(path_to_dump_dir, 'dt.npy'), dt)\n",
    "np.save(os.path.join(path_to_dump_dir, 'id.npy'), id_)\n",
    "np.save(os.path.join(path_to_dump_dir, 'bt.npy'), bt)\n",
    "np.save(os.path.join(path_to_dump_dir, 'lm.npy'), lm)\n",
    "np.save(os.path.join(path_to_dump_dir, 'ms.npy'), ms)\n",
    "np.save(os.path.join(path_to_dump_dir, 'qreal.npy'), qreal)"
   ]
  },
  {
   "cell_type": "markdown",
   "id": "baa12aa2-e054-4c2c-8548-1aa45af11a95",
   "metadata": {},
   "source": [
    "## prepare 00am UTC = 03:00 UTC+3"
   ]
  },
  {
   "cell_type": "code",
   "execution_count": 6,
   "id": "a0c68de2-2c8b-427e-96e6-7ddd19c3ce77",
   "metadata": {},
   "outputs": [],
   "source": [
    "cond = ((DT[:, 3] == 2) & (DT[:, 4] > 59)) | ((DT[:, 3] == 3) & (DT[:, 4] < 1))"
   ]
  },
  {
   "cell_type": "code",
   "execution_count": 7,
   "id": "27ad0833-3aa7-480f-8d37-dc17bf6e291b",
   "metadata": {},
   "outputs": [
    {
     "data": {
      "text/plain": [
       "(7255,)"
      ]
     },
     "execution_count": 7,
     "metadata": {},
     "output_type": "execute_result"
    }
   ],
   "source": [
    "ts, dt, id_, bt, lm, ms, qreal = \\\n",
    "    TS[cond], DT[cond], ID[cond], BT[cond], LM[cond], MS[cond], QREAL[cond]\n",
    "ts.shape"
   ]
  },
  {
   "cell_type": "code",
   "execution_count": 8,
   "id": "4963289f-2e4d-475b-a07a-96ed50391922",
   "metadata": {},
   "outputs": [],
   "source": [
    "path_to_dump_dir = os.path.join('dump', '00am')\n",
    "if not os.path.exists(path_to_dump_dir):\n",
    "    os.makedirs(path_to_dump_dir)\n",
    "\n",
    "np.save(os.path.join(path_to_dump_dir, 'ts.npy'), ts)\n",
    "np.save(os.path.join(path_to_dump_dir, 'dt.npy'), dt)\n",
    "np.save(os.path.join(path_to_dump_dir, 'id.npy'), id_)\n",
    "np.save(os.path.join(path_to_dump_dir, 'bt.npy'), bt)\n",
    "np.save(os.path.join(path_to_dump_dir, 'lm.npy'), lm)\n",
    "np.save(os.path.join(path_to_dump_dir, 'ms.npy'), ms)\n",
    "np.save(os.path.join(path_to_dump_dir, 'qreal.npy'), qreal)"
   ]
  },
  {
   "cell_type": "code",
   "execution_count": null,
   "id": "38f76cc4-56d5-4a4c-b5b3-969d02c35285",
   "metadata": {},
   "outputs": [],
   "source": []
  }
 ],
 "metadata": {
  "kernelspec": {
   "display_name": "Python 3 (ipykernel)",
   "language": "python",
   "name": "python3"
  },
  "language_info": {
   "codemirror_mode": {
    "name": "ipython",
    "version": 3
   },
   "file_extension": ".py",
   "mimetype": "text/x-python",
   "name": "python",
   "nbconvert_exporter": "python",
   "pygments_lexer": "ipython3",
   "version": "3.10.12"
  }
 },
 "nbformat": 4,
 "nbformat_minor": 5
}
