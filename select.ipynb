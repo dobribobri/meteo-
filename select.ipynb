{
 "cells": [
  {
   "cell_type": "code",
   "execution_count": 1,
   "id": "4b72e882",
   "metadata": {},
   "outputs": [],
   "source": [
    "import numpy as np\n",
    "import os\n",
    "\n",
    "TS = np.load(os.path.join('dump', 'ts.npy'))\n",
    "DT = np.load(os.path.join('dump', 'dt.npy'))\n",
    "BT = np.load(os.path.join('dump', 'bt.npy'))\n",
    "LM = np.load(os.path.join('dump', 'lm.npy'))\n",
    "MS = np.load(os.path.join('dump', 'ms.npy'))\n",
    "ID = np.load(os.path.join('dump', 'id.npy'))"
   ]
  },
  {
   "cell_type": "code",
   "execution_count": 2,
   "id": "5d0f6f3f",
   "metadata": {},
   "outputs": [
    {
     "name": "stdout",
     "output_type": "stream",
     "text": [
      "(8170376,) float64 \n",
      " (8170376, 7) int64 \n",
      " (8170376,) int64 \n",
      " (8170376, 47) float32 \n",
      " (8170376, 5) float32 \n",
      " (8170376, 4) int64 \n",
      "\n"
     ]
    }
   ],
   "source": [
    "print(\n",
    "    TS.shape, TS.dtype, '\\n',\n",
    "    DT.shape, DT.dtype, '\\n',\n",
    "    ID.shape, ID.dtype, '\\n',\n",
    "    BT.shape, BT.dtype, '\\n',\n",
    "    LM.shape, LM.dtype, '\\n',\n",
    "    MS.shape, MS.dtype, '\\n',\n",
    ")"
   ]
  },
  {
   "cell_type": "code",
   "execution_count": 3,
   "id": "b380ec88",
   "metadata": {},
   "outputs": [],
   "source": [
    "summer = (DT[:, 1] >= 6) & (DT[:, 1] <= 8) & (DT[:, 0] == 2019)"
   ]
  },
  {
   "cell_type": "code",
   "execution_count": 5,
   "id": "221b3cbf",
   "metadata": {},
   "outputs": [],
   "source": [
    "TS, DT, ID, BT, LM, MS = \\\n",
    "        TS[summer], DT[summer], ID[summer], BT[summer], LM[summer], MS[summer]"
   ]
  },
  {
   "cell_type": "code",
   "execution_count": 6,
   "id": "74542ba0",
   "metadata": {},
   "outputs": [
    {
     "name": "stdout",
     "output_type": "stream",
     "text": [
      "(523827,) float64 \n",
      "\n"
     ]
    }
   ],
   "source": [
    "print(\n",
    "        TS.shape, TS.dtype, '\\n',\n",
    "    )"
   ]
  },
  {
   "cell_type": "code",
   "execution_count": 8,
   "id": "917e9224",
   "metadata": {},
   "outputs": [],
   "source": [
    "path_to_dump_dir = os.path.join('dump', 'summer', '2019')\n",
    "\n",
    "if not os.path.exists(path_to_dump_dir):\n",
    "    os.makedirs(path_to_dump_dir)\n",
    "\n",
    "np.save(os.path.join(path_to_dump_dir, 'ts.npy'), TS)\n",
    "np.save(os.path.join(path_to_dump_dir, 'dt.npy'), DT)\n",
    "np.save(os.path.join(path_to_dump_dir, 'id.npy'), ID)\n",
    "np.save(os.path.join(path_to_dump_dir, 'bt.npy'), BT)\n",
    "np.save(os.path.join(path_to_dump_dir, 'lm.npy'), LM)\n",
    "np.save(os.path.join(path_to_dump_dir, 'ms.npy'), MS)"
   ]
  },
  {
   "cell_type": "code",
   "execution_count": null,
   "id": "bfdf70d6",
   "metadata": {},
   "outputs": [],
   "source": []
  }
 ],
 "metadata": {
  "kernelspec": {
   "display_name": "Python 3 (ipykernel)",
   "language": "python",
   "name": "python3"
  },
  "language_info": {
   "codemirror_mode": {
    "name": "ipython",
    "version": 3
   },
   "file_extension": ".py",
   "mimetype": "text/x-python",
   "name": "python",
   "nbconvert_exporter": "python",
   "pygments_lexer": "ipython3",
   "version": "3.10.6"
  }
 },
 "nbformat": 4,
 "nbformat_minor": 5
}
